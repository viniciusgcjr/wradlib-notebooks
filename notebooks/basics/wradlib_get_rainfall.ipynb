{
 "cells": [
  {
   "cell_type": "markdown",
   "metadata": {
    "nbsphinx": "hidden"
   },
   "source": [
    "This notebook is part of the $\\omega radlib$  documentation: https://docs.wradlib.org.\n",
    "\n",
    "Copyright (c) 2018, $\\omega radlib$  developers.\n",
    "Distributed under the MIT License. See LICENSE.txt for more info."
   ]
  },
  {
   "cell_type": "markdown",
   "metadata": {},
   "source": [
    "# Converting Reflectivity to Rainfall"
   ]
  },
  {
   "cell_type": "markdown",
   "metadata": {},
   "source": [
    "Reflectivity (Z) and precipitation rate (R) can be related in form of a power law $Z=a \\cdot R^b$. The parameters ``a`` and ``b`` depend on the type of precipitation (i.e. drop size distribution and water temperature). $\\omega radlib$ provides a couple of functions that could be useful in this context."
   ]
  },
  {
   "cell_type": "code",
   "execution_count": 1,
   "metadata": {
    "execution": {
     "iopub.execute_input": "2021-01-08T14:39:22.236540Z",
     "iopub.status.busy": "2021-01-08T14:39:22.236050Z",
     "iopub.status.idle": "2021-01-08T14:39:23.636001Z",
     "shell.execute_reply": "2021-01-08T14:39:23.636430Z"
    },
    "nbsphinx": "hidden"
   },
   "outputs": [],
   "source": [
    "import wradlib as wrl\n",
    "import matplotlib.pyplot as pl\n",
    "import warnings\n",
    "warnings.filterwarnings('ignore')\n",
    "try:\n",
    "    get_ipython().magic(\"matplotlib inline\")\n",
    "except:\n",
    "    pl.ion()\n",
    "import numpy as np"
   ]
  },
  {
   "cell_type": "markdown",
   "metadata": {},
   "source": [
    "The following example demonstrates the steps to convert from the common unit *dBZ* (decibel of the reflectivity factor *Z*) to rainfall intensity (in the unit of mm/h). This is an array of typical reflectivity values (**unit: dBZ**)"
   ]
  },
  {
   "cell_type": "code",
   "execution_count": 2,
   "metadata": {
    "execution": {
     "iopub.execute_input": "2021-01-08T14:39:23.641059Z",
     "iopub.status.busy": "2021-01-08T14:39:23.640576Z",
     "iopub.status.idle": "2021-01-08T14:39:23.644329Z",
     "shell.execute_reply": "2021-01-08T14:39:23.643646Z"
    }
   },
   "outputs": [
    {
     "name": "stdout",
     "output_type": "stream",
     "text": [
      "[20. 30. 40. 45. 50. 55.]\n"
     ]
    }
   ],
   "source": [
    "dBZ = np.array([20., 30., 40., 45., 50., 55.])\n",
    "print(dBZ)"
   ]
  },
  {
   "cell_type": "markdown",
   "metadata": {},
   "source": [
    "Convert to reflectivity factor Z (**unit**: $mm^6/m^3$):"
   ]
  },
  {
   "cell_type": "code",
   "execution_count": 3,
   "metadata": {
    "execution": {
     "iopub.execute_input": "2021-01-08T14:39:23.649084Z",
     "iopub.status.busy": "2021-01-08T14:39:23.648011Z",
     "iopub.status.idle": "2021-01-08T14:39:23.650415Z",
     "shell.execute_reply": "2021-01-08T14:39:23.650900Z"
    }
   },
   "outputs": [
    {
     "name": "stdout",
     "output_type": "stream",
     "text": [
      "[1.00000000e+02 1.00000000e+03 1.00000000e+04 3.16227766e+04\n",
      " 1.00000000e+05 3.16227766e+05]\n"
     ]
    }
   ],
   "source": [
    "Z = wrl.trafo.idecibel(dBZ)\n",
    "print(Z)"
   ]
  },
  {
   "cell_type": "markdown",
   "metadata": {},
   "source": [
    "Convert to rainfall intensity (**unit: mm/h**) using the Marshall-Palmer Z(R) parameters:"
   ]
  },
  {
   "cell_type": "code",
   "execution_count": 4,
   "metadata": {
    "execution": {
     "iopub.execute_input": "2021-01-08T14:39:23.655920Z",
     "iopub.status.busy": "2021-01-08T14:39:23.654823Z",
     "iopub.status.idle": "2021-01-08T14:39:23.657225Z",
     "shell.execute_reply": "2021-01-08T14:39:23.657711Z"
    }
   },
   "outputs": [
    {
     "name": "stdout",
     "output_type": "stream",
     "text": [
      "[ 0.65  2.73 11.53 23.68 48.62 99.85]\n"
     ]
    }
   ],
   "source": [
    "R = wrl.zr.z_to_r(Z, a=200., b=1.6)\n",
    "print(np.round(R, 2))"
   ]
  },
  {
   "cell_type": "markdown",
   "metadata": {},
   "source": [
    "Convert to rainfall depth (**unit: mm**) assuming a rainfall duration of five minutes (i.e. 300 seconds)"
   ]
  },
  {
   "cell_type": "code",
   "execution_count": 5,
   "metadata": {
    "execution": {
     "iopub.execute_input": "2021-01-08T14:39:23.669453Z",
     "iopub.status.busy": "2021-01-08T14:39:23.661402Z",
     "iopub.status.idle": "2021-01-08T14:39:23.670601Z",
     "shell.execute_reply": "2021-01-08T14:39:23.671081Z"
    }
   },
   "outputs": [
    {
     "name": "stdout",
     "output_type": "stream",
     "text": [
      "[0.05 0.23 0.96 1.97 4.05 8.32]\n"
     ]
    }
   ],
   "source": [
    "depth = wrl.trafo.r_to_depth(R, 300)\n",
    "print(np.round(depth, 2))"
   ]
  },
  {
   "cell_type": "markdown",
   "metadata": {},
   "source": [
    "## An example with real radar data"
   ]
  },
  {
   "cell_type": "markdown",
   "metadata": {},
   "source": [
    "The following example is based on observations of the DWD C-band radar on mount Feldberg (SW-Germany).\n",
    "The figure shows a 15 minute accumulation of rainfall which was produced from three consecutive radar\n",
    "scans at 5 minute intervals between 17:30 and 17:45 on June 8, 2008.\n",
    "\n",
    "The radar data are read using [wradlib.io.read_dx](https://docs.wradlib.org/en/latest/generated/wradlib.io.radolan.read_dx.html) function which returns an array of dBZ values and a metadata dictionary (see also [Reading-DX-Data](../fileio/wradlib_reading_dx.ipynb#Reading-DX-Data)). The conversion is carried out the same way as in the example above. The plot is produced using\n",
    "the function [wradlib.vis.plot_ppi](https://docs.wradlib.org/en/latest/generated/wradlib.vis.plot_ppi.html)."
   ]
  },
  {
   "cell_type": "code",
   "execution_count": 6,
   "metadata": {
    "execution": {
     "iopub.execute_input": "2021-01-08T14:39:23.675632Z",
     "iopub.status.busy": "2021-01-08T14:39:23.675144Z",
     "iopub.status.idle": "2021-01-08T14:39:23.678030Z",
     "shell.execute_reply": "2021-01-08T14:39:23.678410Z"
    }
   },
   "outputs": [],
   "source": [
    "def read_data(dtimes):\n",
    "    \"\"\"Helper function to read raw data for a list of datetimes <dtimes>\n",
    "    \"\"\"\n",
    "    data = np.empty((len(dtimes),360,128))\n",
    "    for i, dtime in enumerate(dtimes):\n",
    "        f = wrl.util.get_wradlib_data_file('dx/raa00-dx_10908-{0}-fbg---bin.gz'.format(dtime))\n",
    "        data[i], attrs = wrl.io.read_dx(f)\n",
    "    return data"
   ]
  },
  {
   "cell_type": "markdown",
   "metadata": {},
   "source": [
    "Read data from radar Feldberg for three consecutive 5 minute intervals and compute the accumulated rainfall depth."
   ]
  },
  {
   "cell_type": "code",
   "execution_count": 7,
   "metadata": {
    "execution": {
     "iopub.execute_input": "2021-01-08T14:39:23.684212Z",
     "iopub.status.busy": "2021-01-08T14:39:23.682115Z",
     "iopub.status.idle": "2021-01-08T14:39:23.794276Z",
     "shell.execute_reply": "2021-01-08T14:39:23.794983Z"
    }
   },
   "outputs": [],
   "source": [
    "# Read\n",
    "dtimes = [\"0806021735\",\"0806021740\",\"0806021745\"]\n",
    "dBZ = read_data(dtimes)\n",
    "# Convert to rainfall intensity (mm/h)\n",
    "Z = wrl.trafo.idecibel(dBZ)\n",
    "R = wrl.zr.z_to_r(Z, a=200., b=1.6)\n",
    "# Convert to rainfall depth (mm)\n",
    "depth = wrl.trafo.r_to_depth(R, 300)\n",
    "# Accumulate 15 minute rainfall depth over all three 5 minute intervals\n",
    "accum = np.sum(depth, axis=0)"
   ]
  },
  {
   "cell_type": "markdown",
   "metadata": {},
   "source": [
    "Plot PPI of 15 minute rainfall depth"
   ]
  },
  {
   "cell_type": "code",
   "execution_count": 8,
   "metadata": {
    "execution": {
     "iopub.execute_input": "2021-01-08T14:39:23.797442Z",
     "iopub.status.busy": "2021-01-08T14:39:23.796938Z",
     "iopub.status.idle": "2021-01-08T14:39:24.121050Z",
     "shell.execute_reply": "2021-01-08T14:39:24.121606Z"
    }
   },
   "outputs": [
    {
     "data": {
      "text/plain": [
       "<Figure size 720x576 with 0 Axes>"
      ]
     },
     "metadata": {},
     "output_type": "display_data"
    },
    {
     "data": {
      "image/png": "[encoded data removed]",
      "text/plain": [
       "<Figure size 432x288 with 2 Axes>"
      ]
     },
     "metadata": {
      "needs_background": "light"
     },
     "output_type": "display_data"
    }
   ],
   "source": [
    "pl.figure(figsize=(10,8))\n",
    "ax, cf = wrl.vis.plot_ppi(accum, cmap=\"viridis\")\n",
    "pl.xlabel(\"Easting from radar (km)\")\n",
    "pl.ylabel(\"Northing from radar (km)\")\n",
    "pl.title(\"Radar Feldberg\\n15 min. rainfall depth, 2008-06-02 17:30-17:45 UTC\")\n",
    "cb = pl.colorbar(cf, shrink=0.8)\n",
    "cb.set_label(\"mm\")\n",
    "pl.xlim(-128,128)\n",
    "pl.ylim(-128,128)\n",
    "pl.grid(color=\"grey\")"
   ]
  }
 ],
 "metadata": {
  "celltoolbar": "Edit Metadata",
  "kernelspec": {
   "display_name": "Python 3",
   "language": "python",
   "name": "python3"
  },
  "language_info": {
   "codemirror_mode": {
    "name": "ipython",
    "version": 3
   },
   "file_extension": ".py",
   "mimetype": "text/x-python",
   "name": "python",
   "nbconvert_exporter": "python",
   "pygments_lexer": "ipython3",
   "version": "3.9.1"
  },
  "toc": {
   "colors": {
    "hover_highlight": "#DAA520",
    "navigate_num": "#000000",
    "navigate_text": "#333333",
    "running_highlight": "#FF0000",
    "selected_highlight": "#FFD700",
    "sidebar_border": "#EEEEEE",
    "wrapper_background": "#FFFFFF"
   },
   "moveMenuLeft": true,
   "nav_menu": {
    "height": "49px",
    "width": "252px"
   },
   "navigate_menu": true,
   "number_sections": false,
   "sideBar": true,
   "threshold": 4,
   "toc_cell": false,
   "toc_section_display": "block",
   "toc_window_display": false,
   "widenNotebook": false
  }
 },
 "nbformat": 4,
 "nbformat_minor": 1
}
